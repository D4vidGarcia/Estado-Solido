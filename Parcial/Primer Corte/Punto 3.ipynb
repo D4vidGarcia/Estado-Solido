{
 "cells": [
  {
   "cell_type": "code",
   "execution_count": 85,
   "id": "3e45fce5",
   "metadata": {},
   "outputs": [],
   "source": [
    "import numpy as np\n",
    "import matplotlib.pyplot as plt\n",
    "\n",
    "n = 2 # Number of unit cells in each direction\n",
    "a = 1.0e-10 # Lattice constant\n",
    "\n",
    "lambda_X = 1.54e-10 # X-ray wavelength in Angstroms\n",
    "\n",
    "f_O = 8 # Atomic form factor for Oxygen\n",
    "f_Cu = 29 # Atomic form factor for Copper\n",
    "\n",
    "# Diccionario para almacenar los factores de forma atómicos:\n",
    "f = {\n",
    "    \"O\": f_O,\n",
    "    \"Cu\": f_Cu\n",
    "}\n",
    "\n",
    "# Esto al principio lo tenia así, pero le pregunte chatgpt y me dijo que para tenerlos en el mismo array era mejor separarlos usando un diccionario. Le pregunte por que me salío un error\n",
    "# y lo tenía originalmente así:\n",
    "# base_O_Cu = np.array([[0, 0, 0], [1/2, 1/2, 1/2]],[[1/4, 1/4, 1/4], [1/4, 3/4, 3/4], [3/4, 1/4, 3/4], [3/4, 3/4, 1/4]], dtype=float) # BCC Oxygen, FCC Copper\n",
    "# Pero ahora aprendi a usar diccionarios\n",
    "base_O = a * np.array([\n",
    "    [0,   0,   0  ],\n",
    "    [1/2, 1/2, 1/2]\n",
    "], dtype=float)  # BCC (2 átomos)\n",
    "\n",
    "base_Cu = a * np.array([\n",
    "    [1/4, 1/4, 1/4],\n",
    "    [1/4, 3/4, 3/4],\n",
    "    [3/4, 1/4, 3/4],\n",
    "    [3/4, 3/4, 1/4]\n",
    "], dtype=float)  # FCC (4 átomos)\n",
    "\n",
    "# Diccionario para almacenar las bases atómicas:\n",
    "base = {\n",
    "    \"O\": base_O,\n",
    "    \"Cu\": base_Cu\n",
    "}\n",
    "\n",
    "lattice_vectors = a * np.array([[1, 0, 0],[0, 1, 0],[0, 0, 1]], dtype=float) # Cubic cell\n",
    "\n",
    "Miller_indexes = np.stack(np.mgrid[0:n+1, 0:n+1, 0:n+1], axis=-1).astype(float)  # (n+1, n+1, n+1, 3) Miller indices grid\n",
    "\n",
    "# Miller_indexes[0,0,0] = np.nan, np.nan, np.nan # Set (0,0,0) to NaN for clarity"
   ]
  },
  {
   "cell_type": "markdown",
   "id": "2155c995",
   "metadata": {},
   "source": [
    "# Calculos para obtener el factor de Estructura"
   ]
  },
  {
   "cell_type": "code",
   "execution_count": 86,
   "id": "ac511748",
   "metadata": {},
   "outputs": [],
   "source": [
    "# Calculate reciprocal lattice vectors\n",
    "reciprocal_vectors = np.zeros((3, 3), dtype=float) # To store reciprocal lattice vectors\n",
    "for i in range(3):\n",
    "    reciprocal_vectors[i] = 2 * np.pi * np.cross(lattice_vectors[np.mod(i+1, 3)], lattice_vectors[np.mod(i+2, 3)])  / np.linalg.det(lattice_vectors)\n",
    "\n",
    "# Calculate reciprocal lattice vector\n",
    "G = Miller_indexes @ reciprocal_vectors # (n+1, n+1, n+1, 3) Reciprocal lattice vectors grid\n",
    "\n",
    "# Calculate phase factors\n",
    "phase_O = np.tensordot(G, base[\"O\"].T, axes=([-1],[0]))  # (n+1, n+1, n+1, 2) Phase factors for Oxygen\n",
    "phase_Cu = np.tensordot(G, base[\"Cu\"].T, axes=([-1],[0]))  # (n+1, n+1, n+1, 4) Phase factors for Copper\n",
    "\n",
    "# Function to calculate structure factor\n",
    "S_G = f[\"O\"] * np.sum(np.exp(- 1j * phase_O), axis=-1) + f[\"Cu\"] * np.sum(np.exp(- 1j * phase_Cu), axis=-1)  # (n+1, n+1, n+1) Structure factor\n",
    "\n",
    "I_G = np.abs(S_G)**2  # (n+1, n+1, n+1) Intensity"
   ]
  },
  {
   "cell_type": "markdown",
   "id": "14a51b89",
   "metadata": {},
   "source": [
    "# Calculo de distancia interplanar d y angulo"
   ]
  },
  {
   "cell_type": "code",
   "execution_count": null,
   "id": "555544dd",
   "metadata": {},
   "outputs": [
    {
     "name": "stderr",
     "output_type": "stream",
     "text": [
      "C:\\Users\\david\\AppData\\Local\\Temp\\ipykernel_17112\\4113326380.py:1: RuntimeWarning: divide by zero encountered in divide\n",
      "  d = 2 * np.pi / np.linalg.norm(G, axis=-1)  # (n+1, n+1, n+1) Interplanar spacing\n",
      "C:\\Users\\david\\AppData\\Local\\Temp\\ipykernel_17112\\4113326380.py:3: RuntimeWarning: invalid value encountered in arcsin\n",
      "  theta = np.arcsin(lambda_X / (2 * d))  # (n+1, n+1, n+1) Bragg angle in radians\n"
     ]
    }
   ],
   "source": [
    "d = 2 * np.pi / np.linalg.norm(G, axis=-1)  # (n+1, n+1, n+1) Interplanar spacing\n",
    "\n",
    "theta = np.arcsin(lambda_X / (2 * d))  # (n+1, n+1, n+1) Bragg angle in radians\n",
    "\n",
    "theta = np.degrees(theta).reshape(-1,1)  # Convert to degrees y hacer lista de escalares\n",
    "\n",
    "# Ordenar por angulo\n",
    "order = np.argsort(theta) # Indices de ordenamiento\n",
    "\n",
    "# Ordenar los arrays\n",
    "theta_ord = theta[order]\n",
    "I_G_ord = I_G.reshape(-1,1)[order] # Hacer lista de escalares\n",
    "Miller_indexes_ord = Miller_indexes.reshape(-1,3)[order] # Hacer lista de tuplas\n"
   ]
  },
  {
   "cell_type": "code",
   "execution_count": 88,
   "id": "4282e87e",
   "metadata": {},
   "outputs": [
    {
     "name": "stdout",
     "output_type": "stream",
     "text": [
      "Indice de Miller:  [[0. 0. 0.]] ; Intensidad: [[17424.]] ; Angulo: [[0.]]\n"
     ]
    }
   ],
   "source": [
    "# Comporobar resultados\n",
    "indice = 3 # Example Miller index to inspect\n",
    "print(\"Indice de Miller: \", Miller_indexes_ord[indice], \"; Intensidad:\", I_G_ord[indice], \"; Angulo:\", theta_ord[indice]) # Example output for Miller index (1,1,1)"
   ]
  }
 ],
 "metadata": {
  "kernelspec": {
   "display_name": "solid_state",
   "language": "python",
   "name": "python3"
  },
  "language_info": {
   "codemirror_mode": {
    "name": "ipython",
    "version": 3
   },
   "file_extension": ".py",
   "mimetype": "text/x-python",
   "name": "python",
   "nbconvert_exporter": "python",
   "pygments_lexer": "ipython3",
   "version": "3.13.7"
  }
 },
 "nbformat": 4,
 "nbformat_minor": 5
}
