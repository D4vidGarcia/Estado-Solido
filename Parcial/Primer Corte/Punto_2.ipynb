{
 "cells": [
  {
   "cell_type": "markdown",
   "id": "968e200c",
   "metadata": {},
   "source": [
    "# Colab librerias"
   ]
  },
  {
   "cell_type": "code",
   "execution_count": 1,
   "id": "fb78197f",
   "metadata": {},
   "outputs": [
    {
     "name": "stdout",
     "output_type": "stream",
     "text": [
      "Usando backend: trame\n"
     ]
    }
   ],
   "source": [
    "# --- Detectar si estamos en Google Colab ---\n",
    "def running_in_colab() -> bool:\n",
    "    try:\n",
    "        import google.colab  # solo existe en Colab\n",
    "        return True\n",
    "    except ImportError:\n",
    "        return False\n",
    "\n",
    "# Instalar dependencias si estamos en Colab\n",
    "if running_in_colab():\n",
    "    # pyvista[jupyter] es suficiente; backend html funciona estable\n",
    "    %pip install -q \"pyvista[jupyter]\"\n",
    "    pv_backend = \"html\"\n",
    "else:\n",
    "    pv_backend = \"trame\"\n",
    "\n",
    "print(\"Usando backend:\", pv_backend)"
   ]
  },
  {
   "cell_type": "markdown",
   "id": "41a0521c",
   "metadata": {},
   "source": [
    "# Importacion de librerias y creacion de variables"
   ]
  },
  {
   "cell_type": "code",
   "execution_count": 2,
   "id": "3e45fce5",
   "metadata": {},
   "outputs": [
    {
     "name": "stdout",
     "output_type": "stream",
     "text": [
      "(3, 3)\n"
     ]
    }
   ],
   "source": [
    "import numpy as np\n",
    "import matplotlib.pyplot as plt\n",
    "import pyvista as pv\n",
    "\n",
    "# Use the Trame backend for interactive inline plots\n",
    "pv.set_jupyter_backend(pv_backend)\n",
    "\n",
    "n = 1 # Number of stacks of Miller indexes in each direction\n",
    "c = 1.0 # Height of the unit cell \"z\" direction\n",
    "a = 1.0 # Lattice constant\n",
    "\n",
    "rhombohedral_angle = np.pi / 3 # radians\n",
    "\n",
    "lattice_vectors = np.array([\n",
    "    [a, 0, 0],\n",
    "    [a * np.cos(rhombohedral_angle), a * np.sin(rhombohedral_angle), 0],\n",
    "    [0, 0, c]\n",
    "], dtype=float) # Rhombic cell\n",
    "\n",
    "base_fractional = np.array([\n",
    "    [0,   0,   0],\n",
    "    [1/2, 1/2, 1],  # Este realmente no hace parte de la base pero lo pongo para que se vea el átomo de arriba, los de abajo son para brillouin\n",
    "    [1/2, 1/2, 0], # Este si hace parte de la base\n",
    "    [-1/2, 1/2, 0],\n",
    "    [-1/2, -1/2, 0],\n",
    "    [1/2, -1/2, 0]\n",
    "], dtype=float) # Basis atoms positions\n",
    "\n",
    "base = base_fractional[:3] @ lattice_vectors  # Coordenadas de los átomos en la celda unitaria\n",
    "\n",
    "# Define Miller index to work with\n",
    "Miller_indexes = np.stack(np.mgrid[0:n+1, 0:n+1, 0:n+1], axis=-1).astype(float)  # (n+1, n+1, n+1, 3) Miller indices grid\n",
    "Miller_indexes = Miller_indexes.reshape(-1,3)[1:]  # Convertir a un array n^3 x 3\n",
    "\n",
    "# Construcción de malla\n",
    "I, J, K = np.mgrid[0:n+1, 0:n+1, 0:n+1]\n",
    "\n",
    "# Combinación lineal increible\n",
    "lattice = I[..., None] * lattice_vectors[0] + J[..., None] * lattice_vectors[1] + K[..., None] * lattice_vectors[2]\n",
    "lattice = lattice.reshape(-1,3)[1:] # Al poner -1, numpy infiere la cantidad de puntos (2n+1)^3\n",
    "\n",
    "print(np.shape(base))"
   ]
  },
  {
   "cell_type": "markdown",
   "id": "caa7ac3f",
   "metadata": {},
   "source": [
    "# Grafica de la celda"
   ]
  },
  {
   "cell_type": "code",
   "execution_count": 3,
   "id": "2af96ce5",
   "metadata": {},
   "outputs": [
    {
     "data": {
      "application/vnd.jupyter.widget-view+json": {
       "model_id": "85a287af3eba43058af8e584c6be70f1",
       "version_major": 2,
       "version_minor": 0
      },
      "text/plain": [
       "Widget(value='<iframe src=\"http://localhost:3538/index.html?ui=P_0x1ce4d3012b0_0&reconnect=auto\" class=\"pyvist…"
      ]
     },
     "metadata": {},
     "output_type": "display_data"
    }
   ],
   "source": [
    "def puntos_grafica(base, color, label, lattice_vectors):\n",
    "    lengths = np.linalg.norm(lattice_vectors, axis=1)\n",
    "    r = np.min(lengths) / 10  # Radio de las esferas (átomos)\n",
    "    for i in range(np.size(base, 0)):  # Iterar sobre cada átomo en la base\n",
    "        # Crear una esfera pequeña para representar un punto\n",
    "        punto = pv.Sphere(radius=r, center=base[i])  # Centro en la posición del átomo\n",
    "        # Añadir la esfera con un color específico y un nombre para la leyenda\n",
    "        plotter.add_mesh(\n",
    "            punto,\n",
    "            color=color,\n",
    "            label=label\n",
    "        )\n",
    "\n",
    "# Crear el plotter\n",
    "plotter = pv.Plotter(notebook=True)\n",
    "\n",
    "puntos_grafica(base, \"green\", \"Nan\", lattice_vectors)\n",
    "puntos_grafica(lattice, \"green\", \"Nan\", lattice_vectors)\n",
    "\n",
    "# Añadir la leyenda\n",
    "plotter.add_legend()\n",
    "\n",
    "# Mostrar\n",
    "plotter.show(jupyter_backend=pv_backend)"
   ]
  },
  {
   "cell_type": "markdown",
   "id": "48380f64",
   "metadata": {},
   "source": [
    "# Principales Simetrías\n",
    "\n",
    "Este sistema en 2D unicamente deberia tratarse como una red triangular con base en (0, 0), (1/2, 0) y (0, 1/2). Esto debido a que no existe una red de brave romboedrica, por lo tanto se debe tratar como una rectangular.\n",
    "El sistema 2D como se plantea en el punto es $C_{2V}$, esto debido a que tiene dos planos de espejo $XZ$ y $YZ$, ademas el vector de rotacion $\\hat{z}$ es coplanar. Estos planos de espejo se encuentran justamente en las rectas que pasan por la red en $x = 0$ y $y = 0$."
   ]
  },
  {
   "cell_type": "markdown",
   "id": "b3f63016",
   "metadata": {},
   "source": [
    "# Grafica celda reciproca"
   ]
  },
  {
   "cell_type": "code",
   "execution_count": 4,
   "id": "c6b1601a",
   "metadata": {},
   "outputs": [
    {
     "data": {
      "application/vnd.jupyter.widget-view+json": {
       "model_id": "9b7865cfe9bd4d99839d7af589d3a95a",
       "version_major": 2,
       "version_minor": 0
      },
      "text/plain": [
       "Widget(value='<iframe src=\"http://localhost:3538/index.html?ui=P_0x1ce4dc03b10_1&reconnect=auto\" class=\"pyvist…"
      ]
     },
     "metadata": {},
     "output_type": "display_data"
    }
   ],
   "source": [
    "# Calculate reciprocal lattice vectors\n",
    "reciprocal_vectors = np.zeros((3, 3), dtype=float) # To store reciprocal lattice vectors\n",
    "for i in range(3):\n",
    "    reciprocal_vectors[i] = 2 * np.pi * np.cross(lattice_vectors[np.mod(i+1, 3)], lattice_vectors[np.mod(i+2, 3)])  / np.linalg.det(lattice_vectors)\n",
    "\n",
    "lattice_reciprocal = I[..., None] * reciprocal_vectors[0] + J[..., None] * reciprocal_vectors[1] + K[..., None] * reciprocal_vectors[2]\n",
    "lattice_reciprocal = lattice_reciprocal.reshape(-1,3)[1:] # Al poner -1, numpy infiere la cantidad de puntos (2n+1)^3\n",
    "\n",
    "base_reciprocal = base_fractional @ reciprocal_vectors  # Coordenadas de los átomos en la celda unitaria\n",
    "\n",
    "# Crear el plotter\n",
    "plotter = pv.Plotter(notebook=True)\n",
    "\n",
    "puntos_grafica(base_reciprocal[:3], \"blue\", \"Nan\", lattice_reciprocal)\n",
    "puntos_grafica(lattice_reciprocal, \"blue\", \"Nan\", lattice_reciprocal)\n",
    "\n",
    "# Añadir la leyenda\n",
    "plotter.add_legend()\n",
    "\n",
    "# Mostrar\n",
    "plotter.show()"
   ]
  },
  {
   "cell_type": "markdown",
   "id": "fe78885d",
   "metadata": {},
   "source": [
    "# Brillouin"
   ]
  },
  {
   "cell_type": "code",
   "execution_count": 5,
   "id": "0bc35541",
   "metadata": {},
   "outputs": [
    {
     "name": "stdout",
     "output_type": "stream",
     "text": [
      "Angulo entre los vectores de la base en el espacio recíproco teorico (coseno):  70.52877936550931\n",
      "Puntos ordenados:\n",
      "[[ 3.14159265  1.81379936  0.        ]\n",
      " [-3.14159265 -1.81379936  0.        ]\n",
      " [ 0.          0.         -6.28318531]\n",
      " [ 0.          0.          6.28318531]\n",
      " [-3.14159265  5.44139809  0.        ]\n",
      " [ 3.14159265 -5.44139809  0.        ]]\n"
     ]
    },
    {
     "data": {
      "application/vnd.jupyter.widget-view+json": {
       "model_id": "e10e6315a73c4db998c75c80d71a2b29",
       "version_major": 2,
       "version_minor": 0
      },
      "text/plain": [
       "Widget(value='<iframe src=\"http://localhost:3538/index.html?ui=P_0x1ce4de0da90_2&reconnect=auto\" class=\"pyvist…"
      ]
     },
     "metadata": {},
     "output_type": "display_data"
    }
   ],
   "source": [
    "I, J, K = np.mgrid[-n:n+1, -n:n+1, -n:n+1]\n",
    "\n",
    "\n",
    "\n",
    "# Combinación lineal increible\n",
    "pts = I[..., None] * reciprocal_vectors[0] + J[..., None] * reciprocal_vectors[1] + K[..., None] * reciprocal_vectors[2]\n",
    "pts = pts.reshape(-1,3) # Al poner -1, numpy infiere la cantidad de puntos (2n+1)^3\n",
    "\n",
    "pts = np.concatenate((pts, base_reciprocal[1:]), axis=0)\n",
    "\n",
    "# Ordenamiento y eliminacion de puntos innecesarios\n",
    "mag = np.linalg.norm(pts, axis=1)\n",
    "order = np.argsort(mag)\n",
    "\n",
    "k = 6 # Numero de planos a graficar (excluyendo el origen) probar con 6, 8, 10, 12 y 14, entonces toca cambiarlo a mano segun el angulo\n",
    "pts_ord = pts[order][1:k + 1] # Tomar los primeros puntos (excluyendo el origen) \n",
    "\n",
    "rhombohedral_angle_brillouin = np.arccos(np.cos(rhombohedral_angle) / ( 1 + np.cos(rhombohedral_angle) ))\n",
    "print(\"Angulo entre los vectores de la base en el espacio recíproco teorico (coseno): \", np.degrees(rhombohedral_angle_brillouin))\n",
    "\n",
    "print(\"Puntos ordenados:\")\n",
    "print(pts_ord)\n",
    "\n",
    "# Crear plotter\n",
    "plotter = pv.Plotter()\n",
    "\n",
    "# Crear los planos\n",
    "#Trucazo increible usando el parametro c_res\n",
    "for i in range(len(pts_ord)): # Solo los planos hexagonales\n",
    "\n",
    "    # Rotar los planos para que queden bien orientados los cortes\n",
    "    if np.isclose(pts_ord[i,2], 0.0):\n",
    "        ang = 45\n",
    "    else:\n",
    "        ang = np.degrees(rhombohedral_angle_brillouin)\n",
    "\n",
    "    plane = pv.Disc(center=pts_ord[i,:]/2,      # punto central del plano\n",
    "                     normal=pts_ord[i,:],   # vector normal al plano\n",
    "                     inner=0.0, outer=5,   # tamaño del plano en direcciones radiales\n",
    "                     r_res=1, c_res=4)  # densidad de subdivisión\n",
    "    # Lo intente rotar con esto y nada, no se como rotar los planos para que queden bien orientados\n",
    "    plane.rotate_vector(vector=pts_ord[i,:], angle=ang, point=pts_ord[i,:]/2)\n",
    "\n",
    "    plotter.add_mesh(plane, color=\"aquamarine\", opacity=0.5, show_edges=True)\n",
    "\n",
    "# Mostrar\n",
    "plotter.show()"
   ]
  }
 ],
 "metadata": {
  "kernelspec": {
   "display_name": "solid_state",
   "language": "python",
   "name": "python3"
  },
  "language_info": {
   "codemirror_mode": {
    "name": "ipython",
    "version": 3
   },
   "file_extension": ".py",
   "mimetype": "text/x-python",
   "name": "python",
   "nbconvert_exporter": "python",
   "pygments_lexer": "ipython3",
   "version": "3.13.7"
  }
 },
 "nbformat": 4,
 "nbformat_minor": 5
}
